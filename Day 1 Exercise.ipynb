{
 "cells": [
  {
   "cell_type": "markdown",
   "metadata": {},
   "source": [
    "## Questions"
   ]
  },
  {
   "cell_type": "markdown",
   "metadata": {},
   "source": [
    "1. Decode this secrete message:\n",
    "01001100 01101111 01100111 01101001 01100011"
   ]
  },
  {
   "cell_type": "markdown",
   "metadata": {},
   "source": [
    "$$\n",
    "01001100\\\\\n",
    "2^6 2^3 2^2\\\\\n",
    "64 + 8 + 4 = 76\\\\\n",
    "76 = L\\\\\n",
    "$$\n",
    "$$\n",
    "01101111\\\\\n",
    "2^6 2^5 2^3 2^2 2^1 2^0\\\\\n",
    "64 + 32 + 8 + 4 + 2 + 1 = 111\\\\\n",
    "111 = o\\\\\n",
    "$$\n",
    "$$\n",
    "01100111\\\\\n",
    "2^6 2^5 2^2 2^1 2^0\\\\\n",
    "64 + 32 + 4 + 2 + 1 = 103\\\\\n",
    "103 = g\\\\\n",
    "$$\n",
    "$$\n",
    "01101001\\\\\n",
    "2^6 2^5 2^3 2^0\\\\\n",
    "64 + 32 + 8 + 1 = 105\\\\\n",
    "105 = i\\\\\n",
    "$$\n",
    "$$\n",
    "01100011\\\\\n",
    "2^6 2^5 2^1 2^0\\\\\n",
    "64 + 32 + 2 + 1 = 99\\\\\n",
    "99 = c\\\\\n",
    "$$\n",
    "# Logic\n"
   ]
  },
  {
   "cell_type": "markdown",
   "metadata": {},
   "source": [
    "2. Identify and explain stages of Programming."
   ]
  },
  {
   "cell_type": "markdown",
   "metadata": {},
   "source": [
    "### Analyze\n",
    "The first step of programming is to identify the problem you are having or something that you would like to create.\n",
    "### Plan\n",
    "The second step is to plan out how you are going to go about solving the problem. What You already have, what you need, the steps to get to your desired outcome, etc.\n",
    "### Code\n",
    "The third step is using a programming language to create a program to solve the problem. This is where you actually have to write out the program.\n",
    "### Test\n",
    "The fourth stage is testing out the program to make sure that it is functioning properly before it is deployed.\n",
    "### Maintenance\n",
    "The finaly stage is identifying bugs or enhancements in the program and documenting them in order to start the process again."
   ]
  },
  {
   "cell_type": "markdown",
   "metadata": {},
   "source": [
    "3. Explain why do we use Selection? What kind of Statements or code do we use with that?"
   ]
  },
  {
   "cell_type": "markdown",
   "metadata": {},
   "source": [
    "We use selection in order to select a path out of many depending on the conditions in the program.  For this, we use if statements where the next path is chosen depending on if the statement is true or false. "
   ]
  },
  {
   "cell_type": "markdown",
   "metadata": {},
   "source": [
    "4. Explain why do we use Sequence? Why is this part integral?"
   ]
  },
  {
   "cell_type": "markdown",
   "metadata": {},
   "source": [
    "We use sequence in order for statements to happen in a sequential order, one after another. This part is integral because the statements need to be in the correct order so that the program will function correctly."
   ]
  },
  {
   "cell_type": "markdown",
   "metadata": {},
   "source": [
    "5. Explain why do we use Repetition? What kind of statements or code do we use with that?"
   ]
  },
  {
   "cell_type": "markdown",
   "metadata": {},
   "source": [
    "We use repetition when we need to repeat a statement over and over again.  For this we would use a boolean expression such as AND or OR."
   ]
  },
  {
   "cell_type": "markdown",
   "metadata": {},
   "source": [
    "6. Knowing all this, explain why do we use the Structured Program Theorom and why do you need to know it?"
   ]
  },
  {
   "cell_type": "markdown",
   "metadata": {},
   "source": [
    "We use Structured Program Theorem to control the flow of a program's execution in order that it the output is correct.  We need to know it as it is the foundational theorem that programming is based off of."
   ]
  }
 ],
 "metadata": {
  "kernelspec": {
   "display_name": "Python 3",
   "language": "python",
   "name": "python3"
  },
  "language_info": {
   "codemirror_mode": {
    "name": "ipython",
    "version": 3
   },
   "file_extension": ".py",
   "mimetype": "text/x-python",
   "name": "python",
   "nbconvert_exporter": "python",
   "pygments_lexer": "ipython3",
   "version": "3.8.8"
  }
 },
 "nbformat": 4,
 "nbformat_minor": 4
}
